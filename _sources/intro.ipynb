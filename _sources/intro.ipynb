{
 "cells": [
  {
   "cell_type": "markdown",
   "metadata": {},
   "source": [
    "# Introduction to the practicals\n",
    "\n",
    "These practicals introduce a core set of GIS concepts and functions in R and then explore some more common use cases.\n",
    "\n",
    "All of these practicals are **self-paced**: you can work through them at your own speed and call out when you need help.\n",
    "\n",
    "## Three before 'me'\n",
    "\n",
    "There will be a team of demonstrators to help you when you get stuck but please do remember that helping yourself is actually a far better way to learn. We do _not_ want you to struggle but before you reach out to a demonstrator:\n",
    "\n",
    "1. Ask *yourself* what you are trying to do: often stepping back and trying to write out an explanation for your problem helps you solve it.\n",
    "\n",
    "2. Ask the *internet*: Sites like [stackoverflow.com]() are an invaluable resource.\n",
    "\n",
    "3. Ask *each other*: it can be really helpful to get together in a short Team meeting and crowd source an answer.\n",
    "\n",
    "If none of those work then ask us!\n",
    "\n",
    "## Getting started\n",
    "\n",
    "* Each practical has its own RStudio Cloud Project. This will contain all of the data needed for the practical and will have the required packages pre-installed.\n",
    "* If you are working on your own computer, you will need to download the data files and set up a working directory with a `data` folder.\n",
    "* Once you have your working directory set up and are running in R then do create a new script file to put your code in.\n",
    "* Work through the handouts at your own pace.\n",
    "\n",
    "## Tasks\n",
    "\n",
    "```{admonition} Introducing tasks\n",
    ":class: tip\n",
    "\n",
    "A lot of these practicals will consist of following provided code to understand how it works but occasionally there will be **tasks** to test the skills you have been learning. These will start with a task bar like the one above and then have a description like this one. There will then always be a button marked 'Click to show': if you get really stuck, you can click on this to show a solution. Do try and figure it out for yourself and if you don't understand something, ask a demonstrator to help.\n",
    "```\n",
    "\n",
    "```{toggle}\n",
    "Hey! No peeking\n",
    "```\n",
    "\n",
    "\n",
    "\n",
    "\n",
    "```{toctree}\n",
    ":hidden:\n",
    ":titlesonly:\n",
    "\n",
    "\n",
    "practical_1/practical_1\n",
    "```"
   ]
  }
 ],
 "metadata": {
  "jupytext": {
   "formats": "md:myst",
   "text_representation": {
    "extension": ".md",
    "format_name": "myst"
   }
  },
  "kernelspec": {
   "display_name": "R",
   "language": "r",
   "name": "ir"
  },
  "language_info": {
   "codemirror_mode": "r",
   "file_extension": ".r",
   "mimetype": "text/x-r-source",
   "name": "R",
   "pygments_lexer": "r",
   "version": "3.6.2"
  },
  "source_map": [
   11
  ]
 },
 "nbformat": 4,
 "nbformat_minor": 4
}